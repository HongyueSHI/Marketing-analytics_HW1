{
 "cells": [
  {
   "cell_type": "code",
   "execution_count": 5,
   "metadata": {},
   "outputs": [],
   "source": [
    "import pandas as pd"
   ]
  },
  {
   "cell_type": "code",
   "execution_count": 6,
   "metadata": {},
   "outputs": [],
   "source": [
    "df=pd.read_csv('AB_test_data.csv')"
   ]
  },
  {
   "cell_type": "code",
   "execution_count": 7,
   "metadata": {},
   "outputs": [
    {
     "data": {
      "text/html": [
       "<div>\n",
       "<style scoped>\n",
       "    .dataframe tbody tr th:only-of-type {\n",
       "        vertical-align: middle;\n",
       "    }\n",
       "\n",
       "    .dataframe tbody tr th {\n",
       "        vertical-align: top;\n",
       "    }\n",
       "\n",
       "    .dataframe thead th {\n",
       "        text-align: right;\n",
       "    }\n",
       "</style>\n",
       "<table border=\"1\" class=\"dataframe\">\n",
       "  <thead>\n",
       "    <tr style=\"text-align: right;\">\n",
       "      <th></th>\n",
       "      <th>purchase_TF</th>\n",
       "      <th>Variant</th>\n",
       "      <th>date</th>\n",
       "      <th>id</th>\n",
       "    </tr>\n",
       "  </thead>\n",
       "  <tbody>\n",
       "    <tr>\n",
       "      <th>0</th>\n",
       "      <td>False</td>\n",
       "      <td>A</td>\n",
       "      <td>2019/11/8</td>\n",
       "      <td>0x25b44a</td>\n",
       "    </tr>\n",
       "    <tr>\n",
       "      <th>1</th>\n",
       "      <td>False</td>\n",
       "      <td>B</td>\n",
       "      <td>2020/8/27</td>\n",
       "      <td>0x46271e</td>\n",
       "    </tr>\n",
       "    <tr>\n",
       "      <th>2</th>\n",
       "      <td>False</td>\n",
       "      <td>A</td>\n",
       "      <td>2020/6/11</td>\n",
       "      <td>0x80b8f1</td>\n",
       "    </tr>\n",
       "    <tr>\n",
       "      <th>3</th>\n",
       "      <td>False</td>\n",
       "      <td>B</td>\n",
       "      <td>2020/8/22</td>\n",
       "      <td>0x8d736d</td>\n",
       "    </tr>\n",
       "    <tr>\n",
       "      <th>4</th>\n",
       "      <td>False</td>\n",
       "      <td>A</td>\n",
       "      <td>2020/8/5</td>\n",
       "      <td>0x96c9c8</td>\n",
       "    </tr>\n",
       "    <tr>\n",
       "      <th>...</th>\n",
       "      <td>...</td>\n",
       "      <td>...</td>\n",
       "      <td>...</td>\n",
       "      <td>...</td>\n",
       "    </tr>\n",
       "    <tr>\n",
       "      <th>129995</th>\n",
       "      <td>False</td>\n",
       "      <td>A</td>\n",
       "      <td>2020/7/23</td>\n",
       "      <td>0x4089c2</td>\n",
       "    </tr>\n",
       "    <tr>\n",
       "      <th>129996</th>\n",
       "      <td>False</td>\n",
       "      <td>A</td>\n",
       "      <td>2020/6/24</td>\n",
       "      <td>0x6a5e3a</td>\n",
       "    </tr>\n",
       "    <tr>\n",
       "      <th>129997</th>\n",
       "      <td>False</td>\n",
       "      <td>A</td>\n",
       "      <td>2019/10/12</td>\n",
       "      <td>0x95e302</td>\n",
       "    </tr>\n",
       "    <tr>\n",
       "      <th>129998</th>\n",
       "      <td>False</td>\n",
       "      <td>A</td>\n",
       "      <td>2020/3/18</td>\n",
       "      <td>0x7c4afa</td>\n",
       "    </tr>\n",
       "    <tr>\n",
       "      <th>129999</th>\n",
       "      <td>False</td>\n",
       "      <td>A</td>\n",
       "      <td>2019/12/9</td>\n",
       "      <td>0x380071</td>\n",
       "    </tr>\n",
       "  </tbody>\n",
       "</table>\n",
       "<p>130000 rows × 4 columns</p>\n",
       "</div>"
      ],
      "text/plain": [
       "        purchase_TF Variant        date        id\n",
       "0             False       A   2019/11/8  0x25b44a\n",
       "1             False       B   2020/8/27  0x46271e\n",
       "2             False       A   2020/6/11  0x80b8f1\n",
       "3             False       B   2020/8/22  0x8d736d\n",
       "4             False       A    2020/8/5  0x96c9c8\n",
       "...             ...     ...         ...       ...\n",
       "129995        False       A   2020/7/23  0x4089c2\n",
       "129996        False       A   2020/6/24  0x6a5e3a\n",
       "129997        False       A  2019/10/12  0x95e302\n",
       "129998        False       A   2020/3/18  0x7c4afa\n",
       "129999        False       A   2019/12/9  0x380071\n",
       "\n",
       "[130000 rows x 4 columns]"
      ]
     },
     "execution_count": 7,
     "metadata": {},
     "output_type": "execute_result"
    }
   ],
   "source": [
    "# data frame\n",
    "df"
   ]
  },
  {
   "cell_type": "code",
   "execution_count": 8,
   "metadata": {},
   "outputs": [],
   "source": [
    "# seperate variance A and vairance B\n",
    "listType = df['Variant'].unique()\n",
    "data_A =  df[df['Variant'].isin([listType[0]])]\n",
    "data_B = df[df['Variant'].isin([listType[1]])]"
   ]
  },
  {
   "cell_type": "code",
   "execution_count": 9,
   "metadata": {},
   "outputs": [
    {
     "data": {
      "text/html": [
       "<div>\n",
       "<style scoped>\n",
       "    .dataframe tbody tr th:only-of-type {\n",
       "        vertical-align: middle;\n",
       "    }\n",
       "\n",
       "    .dataframe tbody tr th {\n",
       "        vertical-align: top;\n",
       "    }\n",
       "\n",
       "    .dataframe thead th {\n",
       "        text-align: right;\n",
       "    }\n",
       "</style>\n",
       "<table border=\"1\" class=\"dataframe\">\n",
       "  <thead>\n",
       "    <tr style=\"text-align: right;\">\n",
       "      <th></th>\n",
       "      <th>purchase_TF</th>\n",
       "      <th>Variant</th>\n",
       "      <th>date</th>\n",
       "      <th>id</th>\n",
       "    </tr>\n",
       "  </thead>\n",
       "  <tbody>\n",
       "    <tr>\n",
       "      <th>1</th>\n",
       "      <td>False</td>\n",
       "      <td>B</td>\n",
       "      <td>2020/8/27</td>\n",
       "      <td>0x46271e</td>\n",
       "    </tr>\n",
       "    <tr>\n",
       "      <th>3</th>\n",
       "      <td>False</td>\n",
       "      <td>B</td>\n",
       "      <td>2020/8/22</td>\n",
       "      <td>0x8d736d</td>\n",
       "    </tr>\n",
       "    <tr>\n",
       "      <th>59</th>\n",
       "      <td>False</td>\n",
       "      <td>B</td>\n",
       "      <td>2020/8/19</td>\n",
       "      <td>0x3ff83f</td>\n",
       "    </tr>\n",
       "    <tr>\n",
       "      <th>74</th>\n",
       "      <td>False</td>\n",
       "      <td>B</td>\n",
       "      <td>2020/8/10</td>\n",
       "      <td>0x138d19</td>\n",
       "    </tr>\n",
       "    <tr>\n",
       "      <th>103</th>\n",
       "      <td>False</td>\n",
       "      <td>B</td>\n",
       "      <td>2020/8/4</td>\n",
       "      <td>0x966e6a</td>\n",
       "    </tr>\n",
       "    <tr>\n",
       "      <th>...</th>\n",
       "      <td>...</td>\n",
       "      <td>...</td>\n",
       "      <td>...</td>\n",
       "      <td>...</td>\n",
       "    </tr>\n",
       "    <tr>\n",
       "      <th>129805</th>\n",
       "      <td>False</td>\n",
       "      <td>B</td>\n",
       "      <td>2020/8/27</td>\n",
       "      <td>0x7d95d0</td>\n",
       "    </tr>\n",
       "    <tr>\n",
       "      <th>129827</th>\n",
       "      <td>False</td>\n",
       "      <td>B</td>\n",
       "      <td>2020/8/10</td>\n",
       "      <td>0x38a6e8</td>\n",
       "    </tr>\n",
       "    <tr>\n",
       "      <th>129879</th>\n",
       "      <td>False</td>\n",
       "      <td>B</td>\n",
       "      <td>2020/8/30</td>\n",
       "      <td>0x6a711a</td>\n",
       "    </tr>\n",
       "    <tr>\n",
       "      <th>129910</th>\n",
       "      <td>False</td>\n",
       "      <td>B</td>\n",
       "      <td>2020/8/13</td>\n",
       "      <td>0x13175a</td>\n",
       "    </tr>\n",
       "    <tr>\n",
       "      <th>129960</th>\n",
       "      <td>False</td>\n",
       "      <td>B</td>\n",
       "      <td>2020/8/2</td>\n",
       "      <td>0x8d0674</td>\n",
       "    </tr>\n",
       "  </tbody>\n",
       "</table>\n",
       "<p>5000 rows × 4 columns</p>\n",
       "</div>"
      ],
      "text/plain": [
       "        purchase_TF Variant       date        id\n",
       "1             False       B  2020/8/27  0x46271e\n",
       "3             False       B  2020/8/22  0x8d736d\n",
       "59            False       B  2020/8/19  0x3ff83f\n",
       "74            False       B  2020/8/10  0x138d19\n",
       "103           False       B   2020/8/4  0x966e6a\n",
       "...             ...     ...        ...       ...\n",
       "129805        False       B  2020/8/27  0x7d95d0\n",
       "129827        False       B  2020/8/10  0x38a6e8\n",
       "129879        False       B  2020/8/30  0x6a711a\n",
       "129910        False       B  2020/8/13  0x13175a\n",
       "129960        False       B   2020/8/2  0x8d0674\n",
       "\n",
       "[5000 rows x 4 columns]"
      ]
     },
     "execution_count": 9,
     "metadata": {},
     "output_type": "execute_result"
    }
   ],
   "source": [
    "data_B"
   ]
  },
  {
   "cell_type": "code",
   "execution_count": 10,
   "metadata": {},
   "outputs": [],
   "source": [
    "# calculate P(1) for variance A\n",
    "A_rate= data_A['purchase_TF'].value_counts().reset_index()\n",
    "A_true=A_rate.iloc[1,1]\n",
    "A_total=A_rate.iloc[1,1]+A_rate.iloc[0,1]"
   ]
  },
  {
   "cell_type": "code",
   "execution_count": null,
   "metadata": {},
   "outputs": [],
   "source": []
  },
  {
   "cell_type": "code",
   "execution_count": 11,
   "metadata": {},
   "outputs": [
    {
     "name": "stdout",
     "output_type": "stream",
     "text": [
      "0.149616\n"
     ]
    }
   ],
   "source": [
    "A_convert_Rate=A_true/A_total\n",
    "print(A_convert_Rate)"
   ]
  },
  {
   "cell_type": "code",
   "execution_count": 12,
   "metadata": {},
   "outputs": [],
   "source": [
    "# calculate P(1) for variance B\n",
    "B_rate= data_B['purchase_TF'].value_counts().reset_index()\n",
    "B_true=B_rate.iloc[1,1]\n",
    "B_total=B_rate.iloc[1,1]+B_rate.iloc[0,1]"
   ]
  },
  {
   "cell_type": "code",
   "execution_count": 13,
   "metadata": {},
   "outputs": [
    {
     "name": "stdout",
     "output_type": "stream",
     "text": [
      "0.1766\n"
     ]
    }
   ],
   "source": [
    "B_convert_Rate=B_true/B_total\n",
    "print(B_convert_Rate)"
   ]
  },
  {
   "cell_type": "markdown",
   "metadata": {},
   "source": [
    "## Q1 - A/B test - conversion rate"
   ]
  },
  {
   "cell_type": "code",
   "execution_count": 14,
   "metadata": {},
   "outputs": [
    {
     "data": {
      "text/plain": [
       "(-5.2304877183522045, 8.453170449191526e-08)"
      ]
     },
     "execution_count": 14,
     "metadata": {},
     "output_type": "execute_result"
    }
   ],
   "source": [
    "# calculate p-value\n",
    "# see if the improvement is significant\n",
    "\n",
    "import statsmodels.api as sm\n",
    "z_scroe,p_value=sm.stats.proportions_ztest([A_true,B_true],[A_total,B_total],alternative='smaller')\n",
    "z_scroe,p_value"
   ]
  },
  {
   "cell_type": "markdown",
   "metadata": {},
   "source": [
    "## Q2 - Optimal sample size"
   ]
  },
  {
   "cell_type": "code",
   "execution_count": 15,
   "metadata": {},
   "outputs": [],
   "source": [
    "import scipy as sc\n",
    "from scipy.stats import norm"
   ]
  },
  {
   "cell_type": "code",
   "execution_count": 16,
   "metadata": {},
   "outputs": [],
   "source": [
    "# calculate z-score of alpha (probability of type I error) \n",
    "z = sc.stats.norm.ppf(1-0.05/2)"
   ]
  },
  {
   "cell_type": "code",
   "execution_count": 17,
   "metadata": {},
   "outputs": [
    {
     "data": {
      "text/plain": [
       "1.959963984540054"
      ]
     },
     "execution_count": 17,
     "metadata": {},
     "output_type": "execute_result"
    }
   ],
   "source": [
    "z"
   ]
  },
  {
   "cell_type": "code",
   "execution_count": 18,
   "metadata": {},
   "outputs": [],
   "source": [
    "# calculate z-scroe of beta (probability of type II error) \n",
    "b = sc.stats.norm.ppf(1-0.2)"
   ]
  },
  {
   "cell_type": "code",
   "execution_count": 19,
   "metadata": {},
   "outputs": [
    {
     "data": {
      "text/plain": [
       "0.8416212335729143"
      ]
     },
     "execution_count": 19,
     "metadata": {},
     "output_type": "execute_result"
    }
   ],
   "source": [
    "b"
   ]
  },
  {
   "cell_type": "code",
   "execution_count": 20,
   "metadata": {},
   "outputs": [],
   "source": [
    "from math import sqrt"
   ]
  },
  {
   "cell_type": "code",
   "execution_count": 21,
   "metadata": {},
   "outputs": [],
   "source": [
    "AB_convert_Rate = A_convert_Rate+B_convert_Rate"
   ]
  },
  {
   "cell_type": "code",
   "execution_count": 22,
   "metadata": {},
   "outputs": [
    {
     "data": {
      "text/plain": [
       "2942"
      ]
     },
     "execution_count": 22,
     "metadata": {},
     "output_type": "execute_result"
    }
   ],
   "source": [
    "n=((z*(sqrt((AB_convert_Rate)*(1-(AB_convert_Rate/2))))+b*sqrt(A_convert_Rate*(1-A_convert_Rate)+B_convert_Rate*(1-B_convert_Rate))))**2/(A_convert_Rate-B_convert_Rate)**2\n",
    "\n",
    "n=int(round(n))\n",
    "n"
   ]
  },
  {
   "cell_type": "markdown",
   "metadata": {},
   "source": [
    "### Assume that A contains all the 125000 data points"
   ]
  },
  {
   "cell_type": "code",
   "execution_count": 44,
   "metadata": {},
   "outputs": [],
   "source": [
    "A=[]\n",
    "A_True=[]\n",
    "A_sample = []\n",
    "for i in range(0,10):\n",
    "    sample=data_A.sample(n=n,replace=False)\n",
    "    A_sample.append(sample)\n",
    "    rate= sample['purchase_TF'].value_counts().reset_index()\n",
    "    true=rate.iloc[1,1]\n",
    "    total=rate.iloc[1,1]+rate.iloc[0,1]\n",
    "    real_rate=true/total\n",
    "    A.append(real_rate)\n",
    "    A_True.append(true)"
   ]
  },
  {
   "cell_type": "code",
   "execution_count": 45,
   "metadata": {},
   "outputs": [],
   "source": [
    "B=[]\n",
    "B_True=[]\n",
    "B_sample = []\n",
    "for i in range(0,10):\n",
    "    sample=data_B.sample(n=n,replace=False)\n",
    "    B_sample.append(sample)\n",
    "    rate= sample['purchase_TF'].value_counts().reset_index()\n",
    "    true=rate.iloc[1,1]\n",
    "    total=rate.iloc[1,1]+rate.iloc[0,1]\n",
    "    real_rate=true/total\n",
    "    B.append(real_rate)\n",
    "    B_True.append(true)"
   ]
  },
  {
   "cell_type": "code",
   "execution_count": 46,
   "metadata": {},
   "outputs": [
    {
     "name": "stdout",
     "output_type": "stream",
     "text": [
      "-3.8537340041903367 5.816498773121778e-05\n",
      "-4.098895846019702 2.0756288932503553e-05\n",
      "-1.3950736840760354 0.08149681046270418\n",
      "-2.027785103125133 0.021291092700855323\n",
      "-3.302283535853394 0.00047950538164853154\n",
      "-3.917841748930091 4.4672663691219165e-05\n",
      "-3.8440251306838777 6.0516301681534884e-05\n",
      "-3.2092319898369985 0.0006654502996016463\n",
      "-1.7881653874672057 0.036874664373076745\n",
      "-2.0480208198775265 0.020278979704986332\n"
     ]
    }
   ],
   "source": [
    "for i in range(0,10):\n",
    "    z_sample_scroe,p_sample_value=sm.stats.proportions_ztest([A_True[i],B_True[i]],[n,n],alternative='smaller')\n",
    "    print(z_sample_scroe,p_sample_value)"
   ]
  },
  {
   "cell_type": "code",
   "execution_count": null,
   "metadata": {},
   "outputs": [],
   "source": []
  },
  {
   "cell_type": "code",
   "execution_count": 47,
   "metadata": {},
   "outputs": [],
   "source": [
    "#from statsmodels.stats.power import zt_ind_solve_power\n",
    "#from statsmodels.stats.proportion import proportion_effectsize as es\n",
    " \n",
    "#zt_ind_solve_power(effect_size=es(prop1=0.149616, prop2=0.1766), alpha=0.05, power=0.8, alternative=\"two-sided\")"
   ]
  },
  {
   "cell_type": "code",
   "execution_count": null,
   "metadata": {},
   "outputs": [],
   "source": []
  },
  {
   "cell_type": "markdown",
   "metadata": {},
   "source": [
    "## Q3"
   ]
  },
  {
   "cell_type": "markdown",
   "metadata": {},
   "source": [
    "需按Q2修改\n"
   ]
  },
  {
   "cell_type": "code",
   "execution_count": null,
   "metadata": {},
   "outputs": [],
   "source": []
  },
  {
   "cell_type": "code",
   "execution_count": 48,
   "metadata": {},
   "outputs": [
    {
     "data": {
      "text/plain": [
       "125000"
      ]
     },
     "execution_count": 48,
     "metadata": {},
     "output_type": "execute_result"
    }
   ],
   "source": [
    "data_A_1_base = len(data_A[data_A['purchase_TF'] == True])\n",
    "data_A_1_base\n",
    "\n",
    "data_A_0_base = len(data_A[data_A['purchase_TF'] == False])\n",
    "data_A_0_base\n",
    "\n",
    "data_A_all_base = len(data_A['purchase_TF'])\n",
    "data_A_all_base"
   ]
  },
  {
   "cell_type": "code",
   "execution_count": 49,
   "metadata": {},
   "outputs": [],
   "source": [
    "import math\n",
    "\n",
    "# with most conservative boundary\n",
    "\n",
    "a = 0.05\n",
    "b = 0.2\n",
    "\n",
    "# calculate boundary\n",
    "ln_A = math.log(1/a)\n",
    "ln_B = math.log(b)"
   ]
  },
  {
   "cell_type": "code",
   "execution_count": 50,
   "metadata": {},
   "outputs": [
    {
     "name": "stdout",
     "output_type": "stream",
     "text": [
      "stop\n",
      "1115\n",
      "accept H1\n",
      "stop\n",
      "527\n",
      "accept H1\n",
      "stop\n",
      "790\n",
      "accept H1\n",
      "stop\n",
      "392\n",
      "accept H1\n",
      "stop\n",
      "800\n",
      "accept H1\n",
      "stop\n",
      "727\n",
      "accept H1\n",
      "stop\n",
      "341\n",
      "accept H1\n",
      "stop\n",
      "542\n",
      "accept H1\n",
      "stop\n",
      "864\n",
      "accept H1\n",
      "stop\n",
      "249\n",
      "accept H1\n"
     ]
    }
   ],
   "source": [
    "for Whole_data in B_sample:\n",
    "    \n",
    "    data_A_all = data_A_all_base\n",
    "    data_A_0 = data_A_0_base\n",
    "    data_A_1 = data_A_1_base\n",
    "    data_A_1_p = data_A_1 / data_A_all\n",
    "    data_A_0_p = data_A_0 / data_A_all\n",
    "\n",
    "    # let expected B convert rate be the same as Q1\n",
    "    data_B_1_p = B_convert_Rate\n",
    "    data_B_0_p = 1-B_convert_Rate\n",
    "\n",
    "    ln_lamda_n = 0\n",
    "\n",
    "    count_B = 0\n",
    "    \n",
    "    for index in range(len(Whole_data)):\n",
    "\n",
    "        # if data belongs to group A\n",
    "        if Whole_data.iloc[index,1] == 'A':\n",
    "\n",
    "            pass\n",
    "\n",
    "\n",
    "        # if data belongs to group B\n",
    "        if Whole_data.iloc[index,1] == 'B':\n",
    "\n",
    "\n",
    "            # if this point's purchase_TF is Ture\n",
    "            if Whole_data.iloc[index,0] == True:\n",
    "\n",
    "                ln_lamda_xi = math.log(data_B_1_p / data_A_1_p)\n",
    "                ln_lamda_n = ln_lamda_n + ln_lamda_xi\n",
    "\n",
    "                count_B = count_B + 1\n",
    "\n",
    "            # if this point's purchase_TF is Ture\n",
    "            if Whole_data.iloc[index,0] == False:\n",
    "\n",
    "                ln_lamda_xi = math.log(data_B_0_p / data_A_0_p)\n",
    "\n",
    "                ln_lamda_n = ln_lamda_n + ln_lamda_xi\n",
    "                count_B = count_B + 1    \n",
    "\n",
    "        # test if meet the boundary\n",
    "        if ln_lamda_n >= ln_A:\n",
    "            print('stop')\n",
    "            print(count_B)\n",
    "            print('accept H1')\n",
    "            break\n",
    "\n",
    "        elif ln_lamda_n <= ln_B:\n",
    "\n",
    "            print('stop')\n",
    "            print(count_B)\n",
    "            print('reject H1')\n",
    "            break\n",
    "\n",
    "        else:\n",
    "            pass"
   ]
  },
  {
   "cell_type": "code",
   "execution_count": null,
   "metadata": {},
   "outputs": [],
   "source": []
  },
  {
   "cell_type": "code",
   "execution_count": null,
   "metadata": {},
   "outputs": [],
   "source": []
  },
  {
   "cell_type": "code",
   "execution_count": null,
   "metadata": {},
   "outputs": [],
   "source": []
  }
 ],
 "metadata": {
  "kernelspec": {
   "display_name": "Python 3",
   "language": "python",
   "name": "python3"
  },
  "language_info": {
   "codemirror_mode": {
    "name": "ipython",
    "version": 3
   },
   "file_extension": ".py",
   "mimetype": "text/x-python",
   "name": "python",
   "nbconvert_exporter": "python",
   "pygments_lexer": "ipython3",
   "version": "3.8.3"
  }
 },
 "nbformat": 4,
 "nbformat_minor": 4
}
